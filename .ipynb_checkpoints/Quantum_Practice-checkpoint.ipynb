{
 "cells": [
  {
   "cell_type": "markdown",
   "id": "a212dbb6-b79f-4e5e-9b48-4402253b7762",
   "metadata": {},
   "source": [
    "# Defining a Complex Number Class"
   ]
  },
  {
   "cell_type": "code",
   "execution_count": 30,
   "id": "df44c56f-7877-4c60-9e85-040a1f0588da",
   "metadata": {},
   "outputs": [],
   "source": [
    "class MyComplex():\n",
    "    def __init__(self, x, y):\n",
    "        self.x = x\n",
    "        self.y = y\n",
    "\n",
    "    def __repr__(self):\n",
    "        if self.x != 0:\n",
    "            return f\"{self.x} + {self.y}i\"\n",
    "        else:\n",
    "            return f\"{self.y}i\"\n",
    "\n",
    "    def __add__(self, other): \n",
    "        if isinstance(other, MyComplex):\n",
    "            x = self.x + other.x\n",
    "            y = self.y + other.y\n",
    "        elif isinstance(other, int):\n",
    "            x = self.x + other\n",
    "            y = self.y\n",
    "        else:\n",
    "            raise NotImplementedError('Rule for this Addition is not Defined')\n",
    "        return MyComplex(x,y)\n",
    "    "
   ]
  },
  {
   "cell_type": "code",
   "execution_count": 31,
   "id": "121d4dab-1c2a-4f86-a0b1-6734c87ec60f",
   "metadata": {},
   "outputs": [
    {
     "data": {
      "text/plain": [
       "4 + 5i"
      ]
     },
     "execution_count": 31,
     "metadata": {},
     "output_type": "execute_result"
    }
   ],
   "source": [
    "#test the class\n",
    "MyComplex(1,2) + MyComplex(10,20)\n",
    "MyComplex(2,5) + 2"
   ]
  },
  {
   "cell_type": "code",
   "execution_count": 32,
   "id": "5959c268-e903-4b3b-a350-de7e3a24f32d",
   "metadata": {},
   "outputs": [
    {
     "data": {
      "text/plain": [
       "4i"
      ]
     },
     "execution_count": 32,
     "metadata": {},
     "output_type": "execute_result"
    }
   ],
   "source": [
    "#test representation method of class\n",
    "MyComplex(0,4)"
   ]
  },
  {
   "cell_type": "code",
   "execution_count": 36,
   "id": "16a9b1f4-fdcb-47f7-8ea2-6f293cf7e9a2",
   "metadata": {},
   "outputs": [
    {
     "name": "stdout",
     "output_type": "stream",
     "text": [
      "40.5 µs ± 244 ns per loop (mean ± std. dev. of 7 runs, 10,000 loops each)\n"
     ]
    }
   ],
   "source": [
    "%%timeit\n",
    "\n",
    "#time the addition method of your class\n",
    "mycomplex = MyComplex(10,20)\n",
    "for i in range(100):\n",
    "    mycomplex = mycomplex+i"
   ]
  },
  {
   "cell_type": "code",
   "execution_count": null,
   "id": "ea08e2b5-ce96-4d3d-b624-fdb1ab77979f",
   "metadata": {},
   "outputs": [],
   "source": []
  }
 ],
 "metadata": {
  "kernelspec": {
   "display_name": "Python 3 (ipykernel)",
   "language": "python",
   "name": "python3"
  },
  "language_info": {
   "codemirror_mode": {
    "name": "ipython",
    "version": 3
   },
   "file_extension": ".py",
   "mimetype": "text/x-python",
   "name": "python",
   "nbconvert_exporter": "python",
   "pygments_lexer": "ipython3",
   "version": "3.10.0"
  }
 },
 "nbformat": 4,
 "nbformat_minor": 5
}
